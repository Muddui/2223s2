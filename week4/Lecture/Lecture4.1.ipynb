{
 "cells": [
  {
   "cell_type": "markdown",
   "id": "naval-summary",
   "metadata": {},
   "source": [
    "# Data structures"
   ]
  },
  {
   "cell_type": "code",
   "execution_count": null,
   "id": "taken-better",
   "metadata": {},
   "outputs": [],
   "source": [
    "#List of lists\n",
    "listoflists = [['Marthe',5.5,7],\n",
    "               ['John', 6.5,7,8],\n",
    "               ['Elle', 8,7,6]]"
   ]
  },
  {
   "cell_type": "code",
   "execution_count": null,
   "id": "beginning-cornell",
   "metadata": {},
   "outputs": [],
   "source": [
    "#Nested data"
   ]
  },
  {
   "cell_type": "code",
   "execution_count": null,
   "id": "limited-salmon",
   "metadata": {},
   "outputs": [],
   "source": [
    "#Data frame\n",
    "import pandas as pd\n"
   ]
  },
  {
   "cell_type": "code",
   "execution_count": null,
   "id": "dressed-affair",
   "metadata": {},
   "outputs": [],
   "source": []
  },
  {
   "cell_type": "markdown",
   "id": "relevant-velvet",
   "metadata": {},
   "source": [
    "## Reading and writing files"
   ]
  },
  {
   "cell_type": "code",
   "execution_count": null,
   "id": "dominant-electron",
   "metadata": {},
   "outputs": [],
   "source": [
    "#reading txt\n",
    "wordlist=[]"
   ]
  },
  {
   "cell_type": "code",
   "execution_count": null,
   "id": "extreme-yemen",
   "metadata": {},
   "outputs": [],
   "source": [
    "with open('Example_word_list.txt', mode = 'r', encoding='utf-8') as f:\n",
    "    for line in f:\n",
    "        wordlist.append(line.strip())"
   ]
  },
  {
   "cell_type": "code",
   "execution_count": null,
   "id": "satisfactory-railway",
   "metadata": {},
   "outputs": [],
   "source": [
    "#Changing txt - adding a word\n"
   ]
  },
  {
   "cell_type": "code",
   "execution_count": null,
   "id": "injured-trustee",
   "metadata": {},
   "outputs": [],
   "source": [
    "#Writing csv\n",
    "with open('newwordlist.txt', mode = 'w', encoding='utf-8') as f:\n",
    "    f.writelines(wordlist)"
   ]
  },
  {
   "cell_type": "code",
   "execution_count": null,
   "id": "professional-circuit",
   "metadata": {},
   "outputs": [],
   "source": []
  },
  {
   "cell_type": "code",
   "execution_count": 1,
   "id": "productive-genius",
   "metadata": {},
   "outputs": [],
   "source": [
    "# importing\n",
    "import json\n",
    " \n",
    "# Opening JSON file\n",
    "with open('Example_trace_data.json', mode = \"r\", encoding='utf-8') as json_file:\n",
    "    data = json.load(json_file)"
   ]
  },
  {
   "cell_type": "code",
   "execution_count": null,
   "id": "found-azerbaijan",
   "metadata": {},
   "outputs": [],
   "source": [
    "#json to pandas"
   ]
  },
  {
   "cell_type": "code",
   "execution_count": 12,
   "id": "built-folder",
   "metadata": {},
   "outputs": [
    {
     "name": "stdout",
     "output_type": "stream",
     "text": [
      "['36548', '0', 'Referral', '0', '20171010', 'Chrome', 'desktop', 'False', 'Macintosh', '6413139757155395885', 'Austin', 'Americas', 'United States', 'Austin TX', '(not set)', 'Texas', 'Northern America', '0', 'shop.googlemerchandisestore.com/home', '0.0', 'shop.googlemerchandisestore.com/home', '(not set)', '(not set)', '(not set)', '(not set)', '(not set)', '8.0', 'True', '', '50.0', 'shop.googlemerchandisestore.com', '/home', '/home', '', '', '', 'Home', '', '', '', '', '', '', '', '', '', '', '', 'True', 'home_main_link_apparel.jpg', 'Apparel Row 1', 'Apparel', 'Row 1', 'https://mall.googleplex.com/', 'No', ' : ', '(not set)', '128.0', '0', '', '1.0', '3.0', '166.0', '', '', '', '', '', '', '', '', '(not set)', '', '', '(none)', '/', '(direct)', '1507650614', '1', '1507650614']\n"
     ]
    }
   ],
   "source": [
    "#csv to list\n",
    "import csv\n",
    "  \n",
    "with open('Example_shop_data.csv', 'r') as read_obj:\n",
    "  \n",
    "    # Return a reader object which will\n",
    "    # iterate over lines in the given csvfile\n",
    "    csv_reader = csv.reader(read_obj, delimiter=',')\n",
    "    # convert string to list\n",
    "    list_of_csv = list(csv_reader)\n",
    "\n",
    "print(list_of_csv[1])"
   ]
  },
  {
   "cell_type": "code",
   "execution_count": null,
   "id": "identified-stream",
   "metadata": {},
   "outputs": [],
   "source": []
  }
 ],
 "metadata": {
  "interpreter": {
   "hash": "aee8b7b246df8f9039afb4144a1f6fd8d2ca17a180786b69acc140d282b71a49"
  },
  "kernelspec": {
   "display_name": "Python 3.9.1 64-bit",
   "language": "python",
   "name": "python3"
  },
  "language_info": {
   "codemirror_mode": {
    "name": "ipython",
    "version": 3
   },
   "file_extension": ".py",
   "mimetype": "text/x-python",
   "name": "python",
   "nbconvert_exporter": "python",
   "pygments_lexer": "ipython3",
   "version": "3.9.1"
  }
 },
 "nbformat": 4,
 "nbformat_minor": 5
}
