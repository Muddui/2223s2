{
 "cells": [
  {
   "cell_type": "markdown",
   "metadata": {},
   "source": [
    "### In-class assignment 1\n",
    "\n",
    "Student name:\n",
    "\n",
    "Student number:\n",
    "\n",
    "Now that you have learned data types and basic operations in Python, we will ask you to apply them in this assignment. The assignment will test your understanding and application of basic data types, control structures and functions\n",
    "\n",
    "* You are allowed to use your study materials (e.g., slides, literature, notebooks, solutions to weekly challenges) during the assignment. You are not allowed to use external sources.\n",
    "* It is strictly forbidden to communicate with other students during the examination.\n",
    "* When you are finished, double-check whether you answered all questions before uploading the assignment.\n",
    "* Carefully read the instructions and questions in this notebook!\n",
    "\n",
    "General instructions for answering the questions. Please read the instructions carefully:\n",
    "\n",
    "* This assignment consists of a Jupyter Notebook with 2 questions, including sub-questions (a, b). Read all the questions carefully. Make sure you save the notebook locally before starting to answer the questions. Rename this file according to the following structure: \n",
    "LastName_Surname_StudentID_Coursename\n",
    "* Fill in your name and student number in the indicated space.\n",
    "* To answer the questions, write your answers in this notebook where indicated. Note that you can create as many code and markdown cells as you need.\n",
    "* Answer all questions and check upon completion if you really addressed all (sub-)questions.\n",
    "* Use correct and complete sentences. Poorly or unclearly formulated answers will not be graded.\n",
    "* Make sure to answer all questions in your own words.\n",
    "* Do not provide any irrelevant information. If you provide more answers than instructed, only your first answer will be graded. If your correct answer also includes incorrect or irrelevant elements, these will lead to deduction of points.\n",
    "* You can obtain a maximum of 20 points (10 per task). The points you can obtain for each question are provided at the respective question.\n",
    "\n",
    "Submission instructions:\n",
    "\n",
    "* Please upload the html version of the notebook on Canvas. \n",
    "* To do so, when the assignment is fully finished (and all the code executed), in Jupyter Lab, select File --> Export Notebook As --> Export Notebook to HTML. An html file will be generated (and probably downloaded to your Downloads folder). Upload this html file to Canvas. This file will be also used for the plagiarism check.\n",
    "* Make sure that the html file is names according to the following structure: \n",
    "LastName_Surname_StudentID_Coursename.html\n",
    "* If you cannot generate an HTML version from your Notebook (if the option disappeared), upload a PDF instead to Canvas. Please tell your lecturer about it.\n",
    "\n",
    "The assignment consists of two programming tasks, each worth 10 points. Each task includes:\n",
    "* Two programming questions (worth 5 points each)\n",
    "* Two interpretation questions (worth 5 points each)\n",
    "\n",
    "Good luck!\n",
    "\n",
    "\n",
    "### Note\n",
    "This is an example solution. Other correct solutions are also possible.\n"
   ]
  },
  {
   "cell_type": "markdown",
   "metadata": {},
   "source": [
    "### Task 1\n",
    "\n",
    "The dictionary below contains a fictional dataset from a company's Customer Relationship Management system. The dataset contains three characteristics for each customer:\n",
    "\n",
    "* a unique ID for each customer\n",
    "* year of registration\n",
    "* customer type (`np` stands for non-preferential customers and `p` or `preferential` for preferential customers)\n",
    "\n",
    "#### Programming (5 points)\n",
    "\n",
    "Your tasks are to:\n",
    "\n",
    "1. Explore the data: what are the keys and values in the dictionary? What data types do they have? Write the necessary code to determine this AND provide an answer in markdown (2 points) (2 points)\n",
    "2. Filter the dictionary by removing everybody who either registered before 2017 **or** is not a preferential client (3 points)\n",
    "\n",
    "For each line of code provide a very brief explanation what the code does (e.g., using #).\n",
    "\n",
    "*Tip: There are different ways to solve this task. Excellent solutions should be based on self-written functions.*\n",
    "\n",
    "**Note**: To get full points, do not perform unncessary steps such as transforming the dictionary to a dataframe, if this is not needed (*hint: all tasks can be solved without pandas*)"
   ]
  },
  {
   "cell_type": "code",
   "execution_count": 1,
   "metadata": {},
   "outputs": [],
   "source": [
    "CRM_data = {'775FG52': [2019, 'p'],\n",
    "            '562GD73': [2022, 'np'],\n",
    "            '875RG65': [2014, 'np'],\n",
    "            '785ER66': [2016, 'preferential'],\n",
    "            '784RT89': [2020, 'np'],\n",
    "            '896ER56': [2021, 'p'],\n",
    "            '453YN87': [2015, 'np'],\n",
    "            '674WE56': [2014, 'preferential'],\n",
    "            '785TG67': [2022, 'np'],\n",
    "            '764GV89': [2015, 'np'],\n",
    "            '987ER65': [2018, 'p'],\n",
    "            '985RT43': [2016, 'np'],\n",
    "            '782NB74': [2022, 'np'],\n",
    "            '984WB67': [2021, 'preferential'],\n",
    "            '895RE46': [2016, 'np'],\n",
    "            '673TV78': [2017, 'np'],\n",
    "            '896WJ63': [2020, 'p'],\n",
    "            '967EW45': [2015, 'p'],\n",
    "            '895RT78': [2022, 'np'],\n",
    "            '675YU98': [2018, 'p']\n",
    "            }"
   ]
  },
  {
   "cell_type": "markdown",
   "metadata": {},
   "source": [
    "Before I start, I make a plan what steps I need to take to \"translate the task into code\" and solve the question:\n",
    "* Question 1: I need to print all the keys and values in the dictionary and print their data type. To do so I will need:\n",
    "    * loop over the dictionary (note to self: looping over dictionaries looks slightly different than over lists!)\n",
    "    * print the values\n",
    "    * print the data type both for keys and for values\n",
    "    * write down my answer in Markdown"
   ]
  },
  {
   "cell_type": "code",
   "execution_count": 31,
   "metadata": {},
   "outputs": [
    {
     "name": "stdout",
     "output_type": "stream",
     "text": [
      "This is key 775FG52 it's data type is: <class 'str'>\n",
      "This is value [2019, 'p'] it's data type is: <class 'list'>\n",
      "This is key 562GD73 it's data type is: <class 'str'>\n",
      "This is value [2022, 'np'] it's data type is: <class 'list'>\n",
      "This is key 875RG65 it's data type is: <class 'str'>\n",
      "This is value [2014, 'np'] it's data type is: <class 'list'>\n",
      "This is key 785ER66 it's data type is: <class 'str'>\n",
      "This is value [2016, 'preferential'] it's data type is: <class 'list'>\n",
      "This is key 784RT89 it's data type is: <class 'str'>\n",
      "This is value [2020, 'np'] it's data type is: <class 'list'>\n",
      "This is key 896ER56 it's data type is: <class 'str'>\n",
      "This is value [2021, 'p'] it's data type is: <class 'list'>\n",
      "This is key 453YN87 it's data type is: <class 'str'>\n",
      "This is value [2015, 'np'] it's data type is: <class 'list'>\n",
      "This is key 674WE56 it's data type is: <class 'str'>\n",
      "This is value [2014, 'preferential'] it's data type is: <class 'list'>\n",
      "This is key 785TG67 it's data type is: <class 'str'>\n",
      "This is value [2022, 'np'] it's data type is: <class 'list'>\n",
      "This is key 764GV89 it's data type is: <class 'str'>\n",
      "This is value [2015, 'np'] it's data type is: <class 'list'>\n",
      "This is key 987ER65 it's data type is: <class 'str'>\n",
      "This is value [2018, 'p'] it's data type is: <class 'list'>\n",
      "This is key 985RT43 it's data type is: <class 'str'>\n",
      "This is value [2016, 'np'] it's data type is: <class 'list'>\n",
      "This is key 782NB74 it's data type is: <class 'str'>\n",
      "This is value [2022, 'np'] it's data type is: <class 'list'>\n",
      "This is key 984WB67 it's data type is: <class 'str'>\n",
      "This is value [2021, 'preferential'] it's data type is: <class 'list'>\n",
      "This is key 895RE46 it's data type is: <class 'str'>\n",
      "This is value [2016, 'np'] it's data type is: <class 'list'>\n",
      "This is key 673TV78 it's data type is: <class 'str'>\n",
      "This is value [2017, 'np'] it's data type is: <class 'list'>\n",
      "This is key 896WJ63 it's data type is: <class 'str'>\n",
      "This is value [2020, 'p'] it's data type is: <class 'list'>\n",
      "This is key 967EW45 it's data type is: <class 'str'>\n",
      "This is value [2015, 'p'] it's data type is: <class 'list'>\n",
      "This is key 895RT78 it's data type is: <class 'str'>\n",
      "This is value [2022, 'np'] it's data type is: <class 'list'>\n",
      "This is key 675YU98 it's data type is: <class 'str'>\n",
      "This is value [2018, 'p'] it's data type is: <class 'list'>\n"
     ]
    }
   ],
   "source": [
    "# Using a for-loop for a dictionary, printing keys and values and their type (using function type)\n",
    "# Note: you can find a simiar loop in Challenge 3 from week 2 and in Challenge 2 of week 3\n",
    "\n",
    "for key, value in CRM_data.items(): #I loop over the dictionary using .items()\n",
    "    print(\"This is key\", key, \"it's data type is:\", type(key)) #I print both the key and its type\n",
    "    print(\"This is value\", value, \"it's data type is:\", type(value)) #I print both the value and its type\n"
   ]
  },
  {
   "cell_type": "markdown",
   "metadata": {},
   "source": [
    "* Question 2: here I need to remove everybody who either registered before 2017 **or** is not a preferential client. \n",
    "    * I will do this by creating a new dictionary that only includes people who are registered after 2017 or are a preferential client.\n",
    "    * The simplest way to do this is combining looping over the dictionary and conditions\n",
    "    * Information on registration date and type of client is included in a list (that are values of the dictionary as we concluded in question 1). This means that \n",
    "        * for the first element of the list, I need to make sure that it should be smaller than 2017\n",
    "        * for the second element of the list, I need to make sure that it is equal to \"p\" or \"preferential\""
   ]
  },
  {
   "cell_type": "code",
   "execution_count": 29,
   "metadata": {},
   "outputs": [
    {
     "name": "stdout",
     "output_type": "stream",
     "text": [
      "Processing this: [2019, 'p']\n",
      "Processing this: [2022, 'np']\n",
      "Processing this: [2014, 'np']\n",
      "This person does not meet criteria [2014, 'np']\n",
      "Processing this: [2016, 'preferential']\n",
      "Processing this: [2020, 'np']\n",
      "Processing this: [2021, 'p']\n",
      "Processing this: [2015, 'np']\n",
      "This person does not meet criteria [2015, 'np']\n",
      "Processing this: [2014, 'preferential']\n",
      "Processing this: [2022, 'np']\n",
      "Processing this: [2015, 'np']\n",
      "This person does not meet criteria [2015, 'np']\n",
      "Processing this: [2018, 'p']\n",
      "Processing this: [2016, 'np']\n",
      "This person does not meet criteria [2016, 'np']\n",
      "Processing this: [2022, 'np']\n",
      "Processing this: [2021, 'preferential']\n",
      "Processing this: [2016, 'np']\n",
      "This person does not meet criteria [2016, 'np']\n",
      "Processing this: [2017, 'np']\n",
      "This person does not meet criteria [2017, 'np']\n",
      "Processing this: [2020, 'p']\n",
      "Processing this: [2015, 'p']\n",
      "Processing this: [2022, 'np']\n",
      "Processing this: [2018, 'p']\n"
     ]
    }
   ],
   "source": [
    "#Conditions with multiple conditions were used in week 2, challenge 2\n",
    "#Note the usage of .items() to loop over the dictionary\n",
    "filtered_CRM = {}\n",
    "\n",
    "for key,value in CRM_data.items(): #I loop over the dictionary using .items()\n",
    "    print(\"Processing this:\", value) #This print allows me to check what the loop is at\n",
    "    if (value[0] > 2017) or (value[1] == 'p' or value[1] =='preferential'): #I include two conditions connected by or\n",
    "        filtered_CRM[key] = value #here the new dictionary gets filled in when condition is met\n",
    "    else:\n",
    "        print(\"This person does not meet criteria\", value) #to check - I see what values did not meet the condition\n",
    "        pass #and I pass them as they do not meet requirements"
   ]
  },
  {
   "cell_type": "code",
   "execution_count": 4,
   "metadata": {},
   "outputs": [
    {
     "data": {
      "text/plain": [
       "(20, 14)"
      ]
     },
     "execution_count": 4,
     "metadata": {},
     "output_type": "execute_result"
    }
   ],
   "source": [
    "#Here I check if the new dictionary is indeed shorter than the original one \n",
    "len(CRM_data), len(filtered_CRM)"
   ]
  },
  {
   "cell_type": "markdown",
   "metadata": {},
   "source": [
    "Note that the solution above is not the only solution to this task. I could have also used dictionary comprehension (see week 3) or written my own functions. A simple solution including two functions is given below (other solutions with functions are also possible)"
   ]
  },
  {
   "cell_type": "code",
   "execution_count": 6,
   "metadata": {},
   "outputs": [],
   "source": [
    "#An alternative solution would include functions - here I write two functions, one that checks the year and another that checks the status. \n",
    "#They both use conditional statements and if the statement is true, return the Boolean value True. I can then use that value in my loop.\n",
    "\n",
    "def checkyear(year):\n",
    "    if year > 2017:\n",
    "        return True\n",
    "    else:\n",
    "        pass\n",
    "\n",
    "def prefstatus(status):\n",
    "    if status == 'p'or status =='preferential':\n",
    "        return True\n",
    "    else:\n",
    "        pass"
   ]
  },
  {
   "cell_type": "code",
   "execution_count": 8,
   "metadata": {},
   "outputs": [
    {
     "data": {
      "text/plain": [
       "True"
      ]
     },
     "execution_count": 8,
     "metadata": {},
     "output_type": "execute_result"
    }
   ],
   "source": [
    "# To make sure that my function is working, I apply it to a single int.\n",
    "checkyear(2020)"
   ]
  },
  {
   "cell_type": "code",
   "execution_count": 9,
   "metadata": {},
   "outputs": [
    {
     "data": {
      "text/plain": [
       "True"
      ]
     },
     "execution_count": 9,
     "metadata": {},
     "output_type": "execute_result"
    }
   ],
   "source": [
    "# To make sure that my function is working, I apply it to a single string.\n",
    "prefstatus('p')"
   ]
  },
  {
   "cell_type": "code",
   "execution_count": 10,
   "metadata": {},
   "outputs": [],
   "source": [
    "#Here I loop over the dictionary and instead of using conditions, call the functions I have written before.\n",
    "#Note the usage of .items() to loop over the dictionary\n",
    "filtered_CRM = {}\n",
    "\n",
    "for key,value in CRM_data.items():#I loop over the dictionary using .items()\n",
    "    if (checkyear(value[0]) == True) or (prefstatus(value[1] == True)): # the conditions check if either of the functions called returns True \n",
    "        filtered_CRM[key] = value #here the new dictionary gets filled in when condition is met\n",
    "    else:\n",
    "        pass"
   ]
  },
  {
   "cell_type": "code",
   "execution_count": 11,
   "metadata": {},
   "outputs": [
    {
     "data": {
      "text/plain": [
       "{'775FG52': [2019, 'p'],\n",
       " '562GD73': [2022, 'np'],\n",
       " '784RT89': [2020, 'np'],\n",
       " '896ER56': [2021, 'p'],\n",
       " '785TG67': [2022, 'np'],\n",
       " '987ER65': [2018, 'p'],\n",
       " '782NB74': [2022, 'np'],\n",
       " '984WB67': [2021, 'preferential'],\n",
       " '896WJ63': [2020, 'p'],\n",
       " '895RT78': [2022, 'np'],\n",
       " '675YU98': [2018, 'p']}"
      ]
     },
     "execution_count": 11,
     "metadata": {},
     "output_type": "execute_result"
    }
   ],
   "source": [
    "#I print the new dictionary to see if it looks ok.\n",
    "filtered_CRM"
   ]
  },
  {
   "cell_type": "markdown",
   "metadata": {},
   "source": [
    "#### Explaining your code (3 points)\n",
    "\n",
    "You have undertaken several steps to fulfill the tasks above. Select what you consider to be the three most important steps in the code, justify why they are important, and explain the code you used. \n",
    "\n",
    "*Note: there are different correct answers to what the three most important steps of the code are. We want to understand your reasoning/justification for this, and will accept different answers depending on the logic and clarity of your argumentation.*"
   ]
  },
  {
   "cell_type": "markdown",
   "metadata": {},
   "source": [
    "Your explanation goes here: \n",
    "I think the three most important steps are:\n",
    "* determining the value types for my keys and values in the dict: I did so by looping over the dictionary and for each key and value, printing its data type. This showed me that values are lists meaning this will determine my approach in the next task (as I need to acccess every element in the list)\n",
    "* combining two conditions: as I need to filter the dictionary based on values, I needed to apply conditions. In this case I needed to remove everybody who either registered before 2017 **or** is not a preferential client. The or is crucial as it determines how my conditional statement will look like. Hence, I wrote a condition that included two statements connected by or.\n",
    "* accessing elements of the list: I have concluded that the dictionary contains lists as values. To apply conditional statements correctly, I need to make sure to access the first element of the list (year) and the second element (status). I do so by using `value[0]` and `value[1]` in my conditions."
   ]
  },
  {
   "cell_type": "markdown",
   "metadata": {},
   "source": [
    "#### Quality assurance (2 points)\n",
    "How do you know that the code actually worked and delivered the expected results? Please explain how someone else can verify that the code worked (e.g., what should they look at) and which steps you built into the code for yourself to know that it worked (explicitly indicate those steps). (2 points)\n",
    "\n",
    "When filtering the dictionary, I needed to make sure that only part of the cases are kept. To check if the code work I:\n",
    "* I have built in print statements in the loop. They show me what case is being processed through conditions and if conditions were not met, how this case looks like.\n",
    "* After filtering, I have printed lengths of the original and the new dictionary to compare them"
   ]
  },
  {
   "cell_type": "markdown",
   "metadata": {},
   "source": [
    "Your quality assurance explanation goes here."
   ]
  },
  {
   "cell_type": "markdown",
   "metadata": {},
   "source": [
    "### Task 2\n",
    "\n",
    "The dictionary below contains a fictional dataset of a movie rating website. For every user, it includes movies they have watched. As you can see, the data type is mixed depending on how many movies one has watched. There are also some issues with spelling - titles are written both in lower and upper case.\n",
    "\n",
    "#### Programming (5 points)\n",
    "\n",
    "Your tasks are to:\n",
    "\n",
    "1. Clean up the data (make sure that values have the same data type and movie titles in the same (lower or upper) case across users). (2 points)\n",
    "2. Create a new dictionary that for each user shows how many movies from the Harry Potter series they have watched. *Tip: All movies from the series start with the words \"Harry Potter\" in the title.*  (3 points)\n",
    "\n",
    "For each line of code provide a very brief explanation what the code does (e.g., using #).\n",
    "\n",
    "**Note**: To get full points, do not perform unncessary steps such as transforming the dictionary to a dataframe, if this is not needed (*hint: all tasks can be solved without pandas*)"
   ]
  },
  {
   "cell_type": "code",
   "execution_count": 15,
   "metadata": {},
   "outputs": [],
   "source": [
    "movies = {'user1': ['tortoise of the curse', 'warriors and friends', 'Child On My Ship'],\n",
    "          'user2': [' Commander With Four Eyes', 'Harry Potter and the Sorcerers Stone'],\n",
    "          'user3': ['corals of the oceans', 'harry potter and the goblet of fire', 'harry potter and the order of phoenix'],\n",
    "          'user4': 'Queen Of The Mountain',\n",
    "          'user5': ['Harry Potter and the Sorcerers Stone', 'Harry Potter and the Chamber of Secrets', 'Harry Potter and the Prisoner of Azkaban', 'Harry Potter and the Goblet of Fire', 'Harry Potter and the Order of Phoenix', 'Harry Potter and the Half-Blood Prince', 'Harry Potter and the Deathly Hallows'],\n",
    "          'user6': ['Parrot Without A Goal', 'spies of the east'],\n",
    "          'user7': 'Harry Potter and the Chamber of Secrets',\n",
    "          'user8': ['Boyfriends And Roommates', 'scared of dreams'],\n",
    "          'user9': 'Loved By The Sea',\n",
    "          'user10': ['Traitors Of Our Ship', 'Harry Potter and the Prisoner of Azkaban', 'doctors from outer space', 'harry potter and the order of phoenix']\n",
    "          }"
   ]
  },
  {
   "cell_type": "markdown",
   "metadata": {},
   "source": [
    "Before I start, I make a plan what steps I need to take to \"translate the task into code\" and solve the question:\n",
    "\n",
    "Question 1\n",
    "* I need to make sure all values have the same data types (first I will check what the types are) --> it is a mix of lists and strings. I will fix that by making sure they're all lists.\n",
    "* and that they are all lowercase "
   ]
  },
  {
   "cell_type": "code",
   "execution_count": 16,
   "metadata": {},
   "outputs": [
    {
     "name": "stdout",
     "output_type": "stream",
     "text": [
      "This is value ['tortoise of the curse', 'warriors and friends', 'Child On My Ship'] it's data type is: <class 'list'>\n",
      "This is value [' Commander With Four Eyes', 'Harry Potter and the Sorcerers Stone'] it's data type is: <class 'list'>\n",
      "This is value ['corals of the oceans', 'harry potter and the goblet of fire', 'harry potter and the order of phoenix'] it's data type is: <class 'list'>\n",
      "This is value Queen Of The Mountain it's data type is: <class 'str'>\n",
      "This is value ['Harry Potter and the Sorcerers Stone', 'Harry Potter and the Chamber of Secrets', 'Harry Potter and the Prisoner of Azkaban', 'Harry Potter and the Goblet of Fire', 'Harry Potter and the Order of Phoenix', 'Harry Potter and the Half-Blood Prince', 'Harry Potter and the Deathly Hallows'] it's data type is: <class 'list'>\n",
      "This is value ['Parrot Without A Goal', 'spies of the east'] it's data type is: <class 'list'>\n",
      "This is value Harry Potter and the Chamber of Secrets it's data type is: <class 'str'>\n",
      "This is value ['Boyfriends And Roommates', 'scared of dreams'] it's data type is: <class 'list'>\n",
      "This is value Loved By The Sea it's data type is: <class 'str'>\n",
      "This is value ['Traitors Of Our Ship', 'Harry Potter and the Prisoner of Azkaban', 'doctors from outer space', 'harry potter and the order of phoenix'] it's data type is: <class 'list'>\n"
     ]
    }
   ],
   "source": [
    "#First, I check data types\n",
    "for key,value in movies.items():\n",
    "    print(\"This is value\", value, \"it's data type is:\", type(value))\n"
   ]
  },
  {
   "cell_type": "code",
   "execution_count": 20,
   "metadata": {},
   "outputs": [],
   "source": [
    "# I loop over teh dictionary and if the value is a string, I both make it lowercase and put in a list \n",
    "# and if it already is a list, I use list comprehension to make sure all titles are lowercase\n",
    "\n",
    "for key,value in movies.items(): #I loop over the dictionary using .items()\n",
    "    if type(value) == str: #first condition is only true when value is a string\n",
    "        movies[key] = [value.lower()] #I make it into list and lowercase it\n",
    "    elif type(value) == list: #second condition is only true when value is a list already\n",
    "        movies[key] = [title.lower() for title in value] # I use list comprehension to lowercase all elements"
   ]
  },
  {
   "cell_type": "code",
   "execution_count": 22,
   "metadata": {},
   "outputs": [
    {
     "name": "stdout",
     "output_type": "stream",
     "text": [
      "This is value ['tortoise of the curse', 'warriors and friends', 'child on my ship'] it's data type is: <class 'list'>\n",
      "This is value [' commander with four eyes', 'harry potter and the sorcerers stone'] it's data type is: <class 'list'>\n",
      "This is value ['corals of the oceans', 'harry potter and the goblet of fire', 'harry potter and the order of phoenix'] it's data type is: <class 'list'>\n",
      "This is value ['queen of the mountain'] it's data type is: <class 'list'>\n",
      "This is value ['harry potter and the sorcerers stone', 'harry potter and the chamber of secrets', 'harry potter and the prisoner of azkaban', 'harry potter and the goblet of fire', 'harry potter and the order of phoenix', 'harry potter and the half-blood prince', 'harry potter and the deathly hallows'] it's data type is: <class 'list'>\n",
      "This is value ['parrot without a goal', 'spies of the east'] it's data type is: <class 'list'>\n",
      "This is value ['harry potter and the chamber of secrets'] it's data type is: <class 'list'>\n",
      "This is value ['boyfriends and roommates', 'scared of dreams'] it's data type is: <class 'list'>\n",
      "This is value ['loved by the sea'] it's data type is: <class 'list'>\n",
      "This is value ['traitors of our ship', 'harry potter and the prisoner of azkaban', 'doctors from outer space', 'harry potter and the order of phoenix'] it's data type is: <class 'list'>\n"
     ]
    }
   ],
   "source": [
    "#To check if it worked, I print the values again\n",
    "\n",
    "for key,value in movies.items():\n",
    "    print(\"This is value\", value, \"it's data type is:\", type(value))"
   ]
  },
  {
   "cell_type": "markdown",
   "metadata": {},
   "source": [
    "Question 2\n",
    "\n",
    "In this question I need to:\n",
    "* count how many times \"harry potter\" is mentioned in the list of movies\n",
    "* include this count as a value in a new dictionary\n",
    "\n",
    "To do so, I use the += operator we have seen in week 2. This will allow me to count all cases when the condition \"the movie title starts with harry\" is met. \n"
   ]
  },
  {
   "cell_type": "code",
   "execution_count": 30,
   "metadata": {},
   "outputs": [
    {
     "name": "stdout",
     "output_type": "stream",
     "text": [
      "tortoise of the curse is not a HP movie\n",
      "warriors and friends is not a HP movie\n",
      "child on my ship is not a HP movie\n",
      " commander with four eyes is not a HP movie\n",
      "corals of the oceans is not a HP movie\n",
      "queen of the mountain is not a HP movie\n",
      "parrot without a goal is not a HP movie\n",
      "spies of the east is not a HP movie\n",
      "boyfriends and roommates is not a HP movie\n",
      "scared of dreams is not a HP movie\n",
      "loved by the sea is not a HP movie\n",
      "traitors of our ship is not a HP movie\n",
      "doctors from outer space is not a HP movie\n"
     ]
    }
   ],
   "source": [
    "potterfans = {} #I create an empty dictionary I will fill\n",
    "\n",
    "for key,value in movies.items():#I loop over the dictionary using .items()\n",
    "    i = 0 #to count the cases of harry, I create a counter that I call i\n",
    "    for movie in value: #I have made sure all values are lists - I need to loop over them\n",
    "        if movie[:5] == 'harry': #if the first letters of a title are harry - I proceed\n",
    "            i+=1 #then 1 gets added to the counter\n",
    "        else: \n",
    "            print(movie, \"is not a HP movie\") #esle I want to double check that the move is really not HP by printing titles that ended up here\n",
    "            pass\n",
    "    potterfans[key] = i #the new dictionary gets filled up with the counter\n",
    "            "
   ]
  },
  {
   "cell_type": "code",
   "execution_count": 26,
   "metadata": {},
   "outputs": [
    {
     "data": {
      "text/plain": [
       "{'user1': 0,\n",
       " 'user2': 1,\n",
       " 'user3': 2,\n",
       " 'user4': 0,\n",
       " 'user5': 7,\n",
       " 'user6': 0,\n",
       " 'user7': 1,\n",
       " 'user8': 0,\n",
       " 'user9': 0,\n",
       " 'user10': 2}"
      ]
     },
     "execution_count": 26,
     "metadata": {},
     "output_type": "execute_result"
    }
   ],
   "source": [
    "potterfans"
   ]
  },
  {
   "cell_type": "markdown",
   "metadata": {},
   "source": [
    "#### Explaining your code (3 points)\n",
    "\n",
    "You have undertaken several steps to fulfill the tasks above. Select what you consider to be the three most important steps in the code, justify why they are important, and explain the code you used. \n",
    "\n",
    "*Note: there are different correct answers to what the three most important steps of the code are. We want to understand your reasoning/justification for this, and will accept different answers depending on the logic and clarity of your argumentation.*"
   ]
  },
  {
   "cell_type": "markdown",
   "metadata": {},
   "source": [
    "Your explanation goes here:\n",
    "\n",
    "* First, making sure that he cleaning goes correctly and that strings are treated differently than lists is important. I do so by building in conditions: if the value is a string, then it is lowercased and put into lists, if the value is a list, then I make sure to loop over it using list comprehension.\n",
    "* Second, using the counter is crucial. I build in a counter into my loop and use the operator += to make sure that it goes up any time the condition (checking if a move is HP) is met. This way, I can count the number of HP movies per person.\n",
    "* Third, writing a condition that checks if a title is a harry potter movie. I do so by slicing the string - I check if the first five letters are harry (movie[:5])"
   ]
  },
  {
   "cell_type": "markdown",
   "metadata": {},
   "source": [
    "#### Quality assurance (2 points)\n",
    "How do you know that the code actually worked and delivered the expected results? Please explain how someone else can verify that the code worked (e.g., what should they look at) and which steps you built into the code for yourself to know that it worked (explicitly indicate those steps). "
   ]
  },
  {
   "cell_type": "markdown",
   "metadata": {},
   "source": [
    "Your quality assurance explanation goes here:\n",
    "Similar to question 1, I use both print statements and checking the results. \n",
    "* print statement is built into the loop to see what movies ended up at condition `else`\n",
    "* at the end, I print the new dictionary to see if the counter worked as expected. "
   ]
  },
  {
   "cell_type": "markdown",
   "metadata": {},
   "source": []
  }
 ],
 "metadata": {
  "interpreter": {
   "hash": "aee8b7b246df8f9039afb4144a1f6fd8d2ca17a180786b69acc140d282b71a49"
  },
  "kernelspec": {
   "display_name": "Python 3",
   "language": "python",
   "name": "python3"
  },
  "language_info": {
   "codemirror_mode": {
    "name": "ipython",
    "version": 3
   },
   "file_extension": ".py",
   "mimetype": "text/x-python",
   "name": "python",
   "nbconvert_exporter": "python",
   "pygments_lexer": "ipython3",
   "version": "3.7.3"
  }
 },
 "nbformat": 4,
 "nbformat_minor": 2
}
